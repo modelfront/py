{
  "nbformat": 4,
  "nbformat_minor": 0,
  "metadata": {
    "colab": {
      "name": "modelfront.ipynb",
      "version": "0.3.2",
      "provenance": [],
      "collapsed_sections": []
    },
    "kernelspec": {
      "name": "python3",
      "display_name": "Python 3"
    }
  },
  "cells": [
    {
      "cell_type": "markdown",
      "metadata": {
        "id": "s5xPtzd9caEO",
        "colab_type": "text"
      },
      "source": [
        "## ModelFront API with Python\n",
        "\n",
        "This notebook shows you how to call the **[ModelFront](https://modelfront.com) API** with Python.\n",
        "\n",
        "**ModelFront machine translation risk prediction** instantly predicts if a translation is correct or not.\n",
        "\n",
        "Not all topics and languages are supported yet.  To request a language, email languages@modelfront.com.  For other questions, email support@modelfront.com.\n",
        "\n",
        "Not a Pythonista?  To call ModelFront from bash directly, use [api.modelfront.sh](https://modelfront.com/api.modelfront.sh) instead.\n",
        "\n",
        "## Getting started\n",
        "\n",
        "We assume that you have a ModelFront API key and are using Python 3.  To get a ModelFront API key, sign up at [modelfront.com](https://modelfront.com).\n",
        "\n",
        "To get started with the API, save your own copy of this notebook and replace `YOURKEYHERE` with your key, and hit *Run*."
      ]
    },
    {
      "cell_type": "code",
      "metadata": {
        "id": "45ilnUfcMM-d",
        "colab_type": "code",
        "colab": {}
      },
      "source": [
        "%env MODELFRONT_KEY=YOURKEYHERE\n",
        "\n",
        "! pip3 install requests\n",
        "\n",
        "import os, requests\n",
        "\n",
        "key = os.environ['MODELFRONT_KEY']\n",
        "\n",
        "def send(sl, tl, data):\n",
        "  url = f'https://api.modelfront.com/v1?sl={sl}&tl={tl}&token={key}'\n",
        "  r = requests.post(url, json=data)\n",
        "  if r.json()['status'] == 'error':\n",
        "    print(r.json()['status'])\n",
        "    return\n",
        "  risks = r.json()['risks']\n",
        "  for i, row in enumerate(data['rows']):\n",
        "    original = row['original']\n",
        "    translation = row['translation']\n",
        "    risk = risks[i]\n",
        "    print(f'{risk}  \\t {sl}: {original}  {tl}: {translation}')\n",
        "\n",
        "\n",
        "def run(sl, tl, original, translation):\n",
        "  data = {\n",
        "    'meta': {},\n",
        "    'rows': [\n",
        "      { 'original': original, 'translation': translation}\n",
        "    ]\n",
        "  }\n",
        "  send(sl, tl, data)\n",
        "\n",
        "\n",
        "def run_batch(sl, tl, tsv_text):\n",
        "  rows = []\n",
        "  for line in tsv_text.strip().split('\\n'):\n",
        "    [ original, translation ] = line.split('\\t')\n",
        "    rows += [ { 'original': original, 'translation': translation } ]\n",
        "  data = {\n",
        "    'meta':{},\n",
        "    'rows': rows\n",
        "  }\n",
        "  send(sl, tl, data)\n"
      ],
      "execution_count": 0,
      "outputs": []
    },
    {
      "cell_type": "markdown",
      "metadata": {
        "id": "EoLvJM8ve46G",
        "colab_type": "text"
      },
      "source": [
        "## Sending requests\n",
        "\n",
        "Now you can send a request to get risk prediction for a translation.\n",
        "\n",
        "`sl` is the source language, `tl` is the target language, `original` is the source text and `translation` is the target text.  Each text should be a single sentene or less, and can be up to 300 characters long.\n",
        "\n",
        "For example, to test English to Portuguese, run the following:"
      ]
    },
    {
      "cell_type": "code",
      "metadata": {
        "id": "e9ajmr7iMMKr",
        "colab_type": "code",
        "colab": {}
      },
      "source": [
        "run('en', 'pt', 'This is not a test.', 'Isto não é uma prova.')"
      ],
      "execution_count": 0,
      "outputs": []
    },
    {
      "cell_type": "markdown",
      "metadata": {
        "id": "NkeASN6Tfqqh",
        "colab_type": "text"
      },
      "source": [
        "A risk greater than 0.5 (50%) implies that the translation is probably wrong.\n",
        "\n",
        "Now try a bad translation of the same text:"
      ]
    },
    {
      "cell_type": "code",
      "metadata": {
        "id": "5rllglYgfsmz",
        "colab_type": "code",
        "colab": {}
      },
      "source": [
        "run('en', 'pt', 'This is not a test.', 'Isto é uma prova.')"
      ],
      "execution_count": 0,
      "outputs": []
    },
    {
      "cell_type": "markdown",
      "metadata": {
        "id": "MaQLcn6fj2Vv",
        "colab_type": "text"
      },
      "source": [
        "The risk should now be significantly higher."
      ]
    },
    {
      "cell_type": "markdown",
      "metadata": {
        "id": "UF1zKTZ-eEZj",
        "colab_type": "text"
      },
      "source": [
        "### Batch requests\n",
        "\n",
        "To request risk predictions for a batch, use `run_batch`.  You can include up to 15 translations in one request.\n",
        "\n",
        "Note that there are hidden tab characters separating each sentence pair below.  You can also `\\t` explicitly, or change `run_batch` to support another format."
      ]
    },
    {
      "cell_type": "code",
      "metadata": {
        "id": "vn3_2oBbMJjT",
        "colab_type": "code",
        "colab": {}
      },
      "source": [
        "run_batch('en', 'pt', \n",
        "\"\"\"\n",
        "This is not a test.\tIsto não é uma prova.\n",
        "This is not a test.\tIsto é uma prova.\n",
        "Bose wireless\tSem fio Bose\n",
        "Down Alternatives\tDown Alternativas\n",
        "3\" Bull Bar $99\t3 \"Bull Bar $ 99\n",
        "Phone case\tCapa de celular\n",
        "Phone case used\tCaso de telefone usado\n",
        "Manhattan\tManhattan\n",
        "Long Island\tIlha Longa\n",
        "Long Island\tLong Island\n",
        "Mountain View\tvista da montanha\n",
        "Mountain View\tMountain View\n",
        "\"\"\")"
      ],
      "execution_count": 0,
      "outputs": []
    },
    {
      "cell_type": "markdown",
      "metadata": {
        "id": "APWurxmmk5Lh",
        "colab_type": "text"
      },
      "source": [
        "Questions, comments or feature requests?  [Let us know!](mailto:feedback@modelfront.com)"
      ]
    }
  ]
}